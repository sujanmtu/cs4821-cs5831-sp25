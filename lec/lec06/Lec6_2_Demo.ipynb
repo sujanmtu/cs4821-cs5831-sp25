{
  "cells": [
    {
      "cell_type": "markdown",
      "id": "67499d1b",
      "metadata": {
        "id": "67499d1b"
      },
      "source": [
        "## Case Study: Loan Approval Prediction using Random Forest and Compare with Ligistic Regression and Decision Tree\n",
        "\n",
        "This notebook demonstrates how to use a Random Forest classifier to predict loan approvals based on features such as income, credit score, loan amount, employment status, and debt-to-income ratio.\n"
      ]
    },
    {
      "cell_type": "code",
      "execution_count": null,
      "id": "45522273",
      "metadata": {
        "id": "45522273"
      },
      "outputs": [],
      "source": [
        "# Importing necessary libraries\n",
        "import numpy as np\n",
        "import pandas as pd\n",
        "from sklearn.model_selection import train_test_split\n",
        "from sklearn.preprocessing import StandardScaler\n",
        "from sklearn.tree import DecisionTreeClassifier\n",
        "from sklearn.linear_model import LogisticRegression\n",
        "from sklearn.ensemble import RandomForestClassifier\n",
        "from sklearn.metrics import accuracy_score, precision_score, recall_score"
      ]
    },
    {
      "cell_type": "markdown",
      "id": "efd912ae",
      "metadata": {
        "id": "efd912ae"
      },
      "source": [
        "## Step 1: Generate Synthetic Dataset\n",
        "\n",
        "We create a dataset with features representing financial information and define a loan approval criterion.\n"
      ]
    },
    {
      "cell_type": "code",
      "execution_count": null,
      "id": "51229a14",
      "metadata": {
        "id": "51229a14"
      },
      "outputs": [],
      "source": [
        "# Data Size:\n",
        "ds=10000\n",
        "# Set seed for reproducibility\n",
        "np.random.seed(42)\n",
        "\n",
        "# Generate synthetic dataset\n",
        "data = {\n",
        "    'income': np.random.randint(20000, 100000, ds),\n",
        "    'credit_score': np.random.randint(300, 850, ds),\n",
        "    'loan_amount': np.random.randint(5000, 50000, ds),\n",
        "    'employment_status': np.random.randint(0, 2, ds),  # 0 = Unemployed, 1 = Employed\n",
        "    'debt_to_income_ratio': np.random.uniform(0.1, 0.5, ds),\n",
        "}\n",
        "\n",
        "# Convert to DataFrame\n",
        "df = pd.DataFrame(data)\n",
        "\n",
        "# Define loan approval criteria (target variable)\n",
        "df['loan_approved'] = np.where(\n",
        "    (df['credit_score'] > 650) & (df['income'] > 40000) & (df['debt_to_income_ratio'] < 0.35),\n",
        "    1, 0\n",
        ")\n",
        "\n",
        "# Display the first five rows\n",
        "df.head()"
      ]
    },
    {
      "cell_type": "markdown",
      "id": "1c917bc5",
      "metadata": {
        "id": "1c917bc5"
      },
      "source": [
        "## Step 2: Split Dataset\n",
        "\n",
        "We split the dataset into training and testing sets for model evaluation.\n"
      ]
    },
    {
      "cell_type": "code",
      "execution_count": null,
      "id": "c9e4d418",
      "metadata": {
        "id": "c9e4d418"
      },
      "outputs": [],
      "source": [
        "# Split dataset into training and testing sets\n",
        "X = df.drop(columns=['loan_approved'])\n",
        "y = df['loan_approved']\n",
        "X_train, X_test, y_train, y_test = train_test_split(X, y, test_size=0.2, random_state=42)\n",
        "\n",
        "# Display dataset shapes\n",
        "X_train.shape, X_test.shape, y_train.shape, y_test.shape"
      ]
    },
    {
      "cell_type": "markdown",
      "source": [
        "# Data Normalization"
      ],
      "metadata": {
        "id": "lhlrxkubDz-I"
      },
      "id": "lhlrxkubDz-I"
    },
    {
      "cell_type": "code",
      "source": [
        "# Standardize numerical features (optional but often beneficial)\n",
        "scaler = StandardScaler()\n",
        "X_train_scaled = scaler.fit_transform(X_train)\n",
        "X_test_scaled = scaler.transform(X_test)"
      ],
      "metadata": {
        "id": "2DfqJWg_D2fg"
      },
      "id": "2DfqJWg_D2fg",
      "execution_count": null,
      "outputs": []
    },
    {
      "cell_type": "markdown",
      "id": "0fcaf55f",
      "metadata": {
        "id": "0fcaf55f"
      },
      "source": [
        "## Step 3: Train Random Forest with Decision Tree and Logistic Regression Classifier\n",
        "\n",
        "We train a three models to learn patterns from the dataset.\n"
      ]
    },
    {
      "cell_type": "code",
      "execution_count": null,
      "id": "b67b7df0",
      "metadata": {
        "id": "b67b7df0"
      },
      "outputs": [],
      "source": [
        "logistic_regression = LogisticRegression()\n",
        "decision_tree = DecisionTreeClassifier(max_depth=8, random_state=42)\n",
        "random_forest = RandomForestClassifier(\n",
        "    n_estimators=100,       # Increase the number of trees\n",
        "    max_depth=8,           # Restrict depth to reduce overfitting\n",
        "    max_features='sqrt',    # Use sqrt(p) number of features for each split\n",
        "    random_state=42\n",
        "    )"
      ]
    },
    {
      "cell_type": "markdown",
      "id": "a7468899",
      "metadata": {
        "id": "a7468899"
      },
      "source": [
        "## Step 4: Make Predictions\n",
        "\n",
        "We use the trained model to predict loan approvals on the test set.\n"
      ]
    },
    {
      "cell_type": "code",
      "execution_count": null,
      "id": "747bd9ef",
      "metadata": {
        "id": "747bd9ef"
      },
      "outputs": [],
      "source": [
        "# Logistic Regression\n",
        "logistic_regression.fit(X_train_scaled, y_train)\n",
        "y_pred_lr = logistic_regression.predict(X_test_scaled)\n",
        "\n",
        "# Decision Tree\n",
        "decision_tree.fit(X_train_scaled, y_train)\n",
        "y_pred_dt = decision_tree.predict(X_test_scaled)\n",
        "\n",
        "# Random Forest\n",
        "random_forest.fit(X_train_scaled, y_train)\n",
        "y_pred_rf = random_forest.predict(X_test_scaled)"
      ]
    },
    {
      "cell_type": "markdown",
      "id": "ef2d9d60",
      "metadata": {
        "id": "ef2d9d60"
      },
      "source": [
        "## Step 5: Evaluate Model\n",
        "\n",
        "We evaluate the model's performance using accuracy and a classification report.\n"
      ]
    },
    {
      "cell_type": "code",
      "execution_count": null,
      "id": "2f6fa50a",
      "metadata": {
        "id": "2f6fa50a"
      },
      "outputs": [],
      "source": [
        "def calculate_metrics(y_true, y_pred):\n",
        "    accuracy = accuracy_score(y_true, y_pred)\n",
        "    precision = precision_score(y_true, y_pred)\n",
        "    recall = recall_score(y_true, y_pred)\n",
        "    return accuracy, precision, recall\n",
        "\n",
        "# Calculate metrics for each model\n",
        "metrics_lr = calculate_metrics(y_test, y_pred_lr)\n",
        "metrics_dt = calculate_metrics(y_test, y_pred_dt)\n",
        "metrics_rf = calculate_metrics(y_test, y_pred_rf)\n",
        "\n",
        "# Step 7: Print results\n",
        "print(\"Logistic Regression - Accuracy: {:.2f}%, Precision: {:.2f}%, Recall: {:.2f}%\".format(metrics_lr[0]*100, metrics_lr[1]*100, metrics_lr[2]*100))\n",
        "print(\"Decision Tree - Accuracy: {:.2f}%, Precision: {:.2f}%, Recall: {:.2f}%\".format(metrics_dt[0]*100, metrics_dt[1]*100, metrics_dt[2]*100))\n",
        "print(\"Random Forest - Accuracy: {:.2f}%, Precision: {:.2f}%, Recall: {:.2f}%\".format(metrics_rf[0]*100, metrics_rf[1]*100, metrics_rf[2]*100))"
      ]
    }
  ],
  "metadata": {
    "colab": {
      "provenance": []
    },
    "language_info": {
      "name": "python"
    },
    "kernelspec": {
      "name": "python3",
      "display_name": "Python 3"
    }
  },
  "nbformat": 4,
  "nbformat_minor": 5
}