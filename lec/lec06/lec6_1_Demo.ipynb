{
  "cells": [
    {
      "cell_type": "markdown",
      "metadata": {
        "id": "FjoCyOYA0ARL"
      },
      "source": [
        "# Case Study: SVM Classification using the Breast Cancer Dataset\n",
        "\n",
        "In this case study, we will classify the Breast Cancer dataset using a Support Vector Machine (SVM).\n",
        "We will go through the following steps:\n",
        "\n",
        "1. **Importing Libraries**: Required libraries for data preprocessing, model training, and evaluation.\n",
        "2. **Data Loading and Preprocessing**: Loading the dataset, splitting the data into training and test sets, and standardizing the features.\n",
        "3. **Model Training**: Training an SVM model with a linear kernel.\n",
        "4. **Visualization**: Visualizing the decision boundary of the trained model.\n",
        "5. **Evaluation**: Making predictions and evaluating the model using a confusion matrix and classification report.\n",
        "\n",
        "We will use `scikit-learn`'s Breast Cancer dataset for this analysis, which is a binary classification problem where the goal is to classify whether a tumor is benign or malignant."
      ],
      "id": "FjoCyOYA0ARL"
    },
    {
      "cell_type": "code",
      "execution_count": null,
      "id": "fd76c3e1",
      "metadata": {
        "id": "fd76c3e1"
      },
      "outputs": [],
      "source": [
        "# Step 1: Import Libraries\n",
        "import numpy as np\n",
        "import matplotlib.pyplot as plt\n",
        "import seaborn as sns\n",
        "from sklearn import datasets\n",
        "from sklearn.model_selection import train_test_split\n",
        "from sklearn.preprocessing import StandardScaler\n",
        "from sklearn.svm import SVC\n",
        "from sklearn.metrics import classification_report, confusion_matrix"
      ]
    },
    {
      "cell_type": "markdown",
      "metadata": {
        "id": "kAM0YE890ARO"
      },
      "source": [
        "### Step 2: Load and Preprocess the Breast Cancer Dataset\n",
        "\n",
        "In this step, we will:\n",
        "- Load the Breast Cancer dataset.\n",
        "- Extract the features (X) and labels (y).\n",
        "- Select only the first two features for visualization.\n",
        "- Split the dataset into training and test sets.\n",
        "- Standardize the features using `StandardScaler` to ensure that they have zero mean and unit variance."
      ],
      "id": "kAM0YE890ARO"
    },
    {
      "cell_type": "code",
      "execution_count": null,
      "id": "d0cf6b13",
      "metadata": {
        "id": "d0cf6b13"
      },
      "outputs": [],
      "source": [
        "# Load dataset\n",
        "cancer = datasets.load_breast_cancer()\n",
        "X, y = cancer.data, cancer.target  # Features & labels\n"
      ]
    },
    {
      "cell_type": "code",
      "source": [
        "# Select first two features for visualization\n",
        "X = X[:, :2]\n",
        "\n",
        "# Split dataset into train & test sets (80% train, 20% test)\n",
        "X_train, X_test, y_train, y_test = train_test_split(X, y, test_size=0.2, random_state=42)\n",
        "\n",
        "# Display dataset shapes\n",
        "X_train.shape, X_test.shape, y_train.shape, y_test.shape"
      ],
      "metadata": {
        "id": "IkwadidT0cNo"
      },
      "id": "IkwadidT0cNo",
      "execution_count": null,
      "outputs": []
    },
    {
      "cell_type": "code",
      "source": [
        "# Standardize the data\n",
        "scaler = StandardScaler()\n",
        "X_train = scaler.fit_transform(X_train)\n",
        "X_test = scaler.transform(X_test)"
      ],
      "metadata": {
        "id": "MIi9YZl70lLs"
      },
      "id": "MIi9YZl70lLs",
      "execution_count": null,
      "outputs": []
    },
    {
      "cell_type": "markdown",
      "metadata": {
        "id": "22fNtrda0ARP"
      },
      "source": [
        "### Step 3: Train the SVM Model\n",
        "\n",
        "Now we will train an SVM model using a linear kernel. We will fit the model using the training data and evaluate it on the test data later."
      ],
      "id": "22fNtrda0ARP"
    },
    {
      "cell_type": "code",
      "execution_count": null,
      "id": "53e13b8d",
      "metadata": {
        "id": "53e13b8d"
      },
      "outputs": [],
      "source": [
        "# Train an SVM model with a linear kernel\n",
        "svm_model = SVC(kernel='linear', C=1.0)  # C is the regularization parameter\n",
        "svm_model.fit(X_train, y_train)"
      ]
    },
    {
      "cell_type": "markdown",
      "metadata": {
        "id": "8SEiU-hS0ARP"
      },
      "source": [
        "### Step 4: Visualize the Decision Boundary\n",
        "\n",
        "Next, we will visualize the decision boundary learned by the SVM model. The decision boundary will help us understand how the model distinguishes between benign and malignant tumors.\n",
        "We will plot the decision boundary along with the training data points."
      ],
      "id": "8SEiU-hS0ARP"
    },
    {
      "cell_type": "code",
      "execution_count": null,
      "id": "20eaeefb",
      "metadata": {
        "id": "20eaeefb"
      },
      "outputs": [],
      "source": [
        "def plot_decision_boundary(model, X, y):\n",
        "    plt.figure(figsize=(8, 6))\n",
        "\n",
        "    # Define grid for decision boundary plot\n",
        "    x_min, x_max = X[:, 0].min() - 1, X[:, 0].max() + 1\n",
        "    y_min, y_max = X[:, 1].min() - 1, X[:, 1].max() + 1\n",
        "    xx, yy = np.meshgrid(np.linspace(x_min, x_max, 100), np.linspace(y_min, y_max, 100))\n",
        "\n",
        "    # Predict across the grid\n",
        "    Z = model.predict(np.c_[xx.ravel(), yy.ravel()])\n",
        "    Z = Z.reshape(xx.shape)\n",
        "\n",
        "    # Plot contour\n",
        "    plt.contourf(xx, yy, Z, alpha=0.3, cmap=plt.cm.coolwarm)\n",
        "\n",
        "    # Scatter plot of training points\n",
        "    scatter = plt.scatter(X[:, 0], X[:, 1], c=y, cmap=plt.cm.coolwarm, edgecolors='k')\n",
        "    plt.xlabel('Feature 1 (Normalized)')\n",
        "    plt.ylabel('Feature 2 (Normalized)')\n",
        "    plt.title('SVM Decision Boundary')\n",
        "\n",
        "    # Add legend\n",
        "    legend_labels = ['Benign (0)', 'Malignant (1)']\n",
        "    handles, _ = scatter.legend_elements()\n",
        "    plt.legend(handles, legend_labels, loc='upper right')\n",
        "\n",
        "    plt.show()\n",
        "\n",
        "# Plot decision boundary\n",
        "plot_decision_boundary(svm_model, X_train, y_train)"
      ]
    },
    {
      "cell_type": "markdown",
      "metadata": {
        "id": "rZ0JnqbI0ARQ"
      },
      "source": [
        "### Step 5: Model Predictions and Evaluation\n",
        "\n",
        "Finally, we will make predictions on the test set and evaluate the performance of the trained SVM model using:\n",
        "- **Confusion Matrix**: To visualize the model's classification results.\n",
        "- **Classification Report**: To show detailed metrics such as precision, recall, and F1-score."
      ],
      "id": "rZ0JnqbI0ARQ"
    },
    {
      "cell_type": "code",
      "execution_count": null,
      "id": "2070df18",
      "metadata": {
        "id": "2070df18"
      },
      "outputs": [],
      "source": [
        "# Make predictions on the test set\n",
        "y_pred = svm_model.predict(X_test)\n",
        "\n",
        "# Confusion matrix\n",
        "cm = confusion_matrix(y_test, y_pred)\n",
        "\n",
        "# Plot confusion matrix\n",
        "plt.figure(figsize=(5, 4))\n",
        "sns.heatmap(cm, annot=True, fmt='d', cmap='Blues', xticklabels=['Benign', 'Malignant'], yticklabels=['Benign', 'Malignant'])\n",
        "plt.xlabel('Predicted')\n",
        "plt.ylabel('Actual')\n",
        "plt.title('Confusion Matrix')\n",
        "plt.show()\n",
        "\n",
        "# Classification Report\n",
        "print('Classification Report:\\n', classification_report(y_test, y_pred))"
      ]
    },
    {
      "cell_type": "markdown",
      "metadata": {
        "id": "MnLkssFp0ARR"
      },
      "source": [
        "### Summary\n",
        "\n",
        "In this notebook, we demonstrated how to:\n",
        "1. Load and preprocess the Breast Cancer dataset.\n",
        "2. Train an SVM model to classify the tumors as benign or malignant.\n",
        "3. Visualize the decision boundary learned by the SVM.\n",
        "4. Evaluate the model's performance using a confusion matrix and classification report.\n",
        "\n",
        "This example showcases the power of Support Vector Machines in binary classification tasks and how visualizing decision boundaries can help understand model behavior."
      ],
      "id": "MnLkssFp0ARR"
    }
  ],
  "metadata": {
    "kernelspec": {
      "display_name": "Python 3",
      "language": "python",
      "name": "python3"
    },
    "language_info": {
      "codemirror_mode": {
        "name": "ipython",
        "version": 3
      },
      "file_extension": ".py",
      "mimetype": "text/x-python",
      "name": "python",
      "nbconvert_exporter": "python",
      "version": "3.8.8"
    },
    "colab": {
      "provenance": []
    }
  },
  "nbformat": 4,
  "nbformat_minor": 5
}