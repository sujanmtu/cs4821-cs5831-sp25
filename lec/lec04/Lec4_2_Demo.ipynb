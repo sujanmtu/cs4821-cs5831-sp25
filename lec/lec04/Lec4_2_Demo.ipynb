{
 "cells": [
  {
   "cell_type": "markdown",
   "metadata": {
    "id": "bS59FP9k9BEm"
   },
   "source": [
    "# Case Study: Predicting Tennis Match Playability Using Naïve Bayes Classification"
   ]
  },
  {
   "cell_type": "code",
   "execution_count": null,
   "metadata": {
    "id": "eXIutxG07s7t"
   },
   "outputs": [],
   "source": [
    "#Import Packages\n",
    "import numpy as np\n",
    "import pandas as pd\n",
    "from sklearn.naive_bayes import CategoricalNB\n",
    "from sklearn.preprocessing import LabelEncoder\n",
    "from sklearn.model_selection import train_test_split\n",
    "from sklearn.metrics import accuracy_score"
   ]
  },
  {
   "cell_type": "markdown",
   "metadata": {
    "id": "5jBSzky08NDW"
   },
   "source": [
    "# Step 1: Create a sample dataset"
   ]
  },
  {
   "cell_type": "code",
   "execution_count": null,
   "metadata": {
    "id": "sIbB7cdl8Rez"
   },
   "outputs": [],
   "source": [
    "data = pd.DataFrame({\n",
    "    'Outlook': ['Sunny', 'Sunny', 'Overcast', 'Rain', 'Rain', 'Rain', 'Overcast', 'Sunny', 'Sunny', 'Rain', 'Sunny', 'Overcast', 'Overcast', 'Rain'],\n",
    "    'Temperature': ['Hot', 'Hot', 'Hot', 'Mild', 'Cold', 'Cold', 'Cold', 'Mild', 'Cold', 'Mild', 'Mild', 'Mild', 'Hot', 'Mild'],\n",
    "    'Humidity': ['High', 'High', 'High', 'High', 'Low', 'Low', 'Low', 'High', 'Low', 'Low', 'Low', 'High', 'Low', 'High'],\n",
    "    'Windy': ['False', 'True', 'False', 'False', 'False', 'True', 'True', 'False', 'False', 'False', 'True', 'True', 'False', 'True'],\n",
    "    'Play': ['No', 'No', 'Yes', 'Yes', 'Yes', 'No', 'Yes', 'No', 'Yes', 'Yes', 'Yes', 'Yes', 'Yes', 'No']\n",
    "})\n",
    "data.shape"
   ]
  },
  {
   "cell_type": "code",
   "execution_count": null,
   "metadata": {
    "id": "0qKTtW2b8XYt"
   },
   "outputs": [],
   "source": [
    "# Display the dataset\n",
    "print(\"Step 1: Display the dataset\")\n",
    "display(data)"
   ]
  },
  {
   "cell_type": "code",
   "execution_count": null,
   "metadata": {},
   "outputs": [],
   "source": [
    "# Generating 1000 random samples based on the original categories\n",
    "outlook_choices = ['Sunny', 'Overcast', 'Rain']\n",
    "temperature_choices = ['Hot', 'Mild', 'Cold']\n",
    "humidity_choices = ['High', 'Low']\n",
    "windy_choices = ['True', 'False']\n",
    "play_choices = ['Yes', 'No']\n",
    "\n",
    "# Randomly generating data\n",
    "np.random.seed(42)  # For reproducibility\n",
    "data_generated = pd.DataFrame({\n",
    "    'Outlook': np.random.choice(outlook_choices, 1000),\n",
    "    'Temperature': np.random.choice(temperature_choices, 1000),\n",
    "    'Humidity': np.random.choice(humidity_choices, 1000),\n",
    "    'Windy': np.random.choice(windy_choices, 1000),\n",
    "    'Play': np.random.choice(play_choices, 1000)\n",
    "})\n",
    "\n",
    "# Checking the shape of the generated data\n",
    "data_generated.shape"
   ]
  },
  {
   "cell_type": "code",
   "execution_count": null,
   "metadata": {},
   "outputs": [],
   "source": [
    "data=data_generated"
   ]
  },
  {
   "cell_type": "markdown",
   "metadata": {
    "id": "rDt-IMDW8T7C"
   },
   "source": [
    "# Step 2: Encode categorical variables"
   ]
  },
  {
   "cell_type": "code",
   "execution_count": null,
   "metadata": {
    "id": "2-oPkVnU8a0n"
   },
   "outputs": [],
   "source": [
    "label_encoders = {}\n",
    "for col in ['Outlook', 'Temperature', 'Humidity', 'Windy', 'Play']:\n",
    "    label_encoders[col] = LabelEncoder()\n",
    "    data[col] = label_encoders[col].fit_transform(data[col])"
   ]
  },
  {
   "cell_type": "code",
   "execution_count": null,
   "metadata": {
    "id": "qgqiFgwQ8eSz"
   },
   "outputs": [],
   "source": [
    "# Display the encoded dataset\n",
    "print(\"Step 2: Display the encoded dataset\")\n",
    "display(data)"
   ]
  },
  {
   "cell_type": "markdown",
   "metadata": {
    "id": "i3AEZb0d8gKK"
   },
   "source": [
    "# Step 3: Split features and target"
   ]
  },
  {
   "cell_type": "code",
   "execution_count": null,
   "metadata": {
    "id": "OGc3teuD8iZ1"
   },
   "outputs": [],
   "source": [
    "X = data[['Outlook', 'Temperature', 'Humidity', 'Windy']]\n",
    "y = data['Play']\n",
    "\n",
    "# Step 4: Split into training and testing sets\n",
    "X_train, X_test, y_train, y_test = train_test_split(X, y, test_size=0.2, random_state=42)"
   ]
  },
  {
   "cell_type": "code",
   "execution_count": null,
   "metadata": {
    "id": "awkR0DUP91LP"
   },
   "outputs": [],
   "source": [
    "X_train.shape, X_test.shape, y_train.shape, y_test.shape"
   ]
  },
  {
   "cell_type": "markdown",
   "metadata": {
    "id": "jAGNXoGU8mk0"
   },
   "source": [
    "# Step 5: Train Naïve Bayes classifier"
   ]
  },
  {
   "cell_type": "code",
   "execution_count": null,
   "metadata": {
    "id": "qkZjGdG68o-w"
   },
   "outputs": [],
   "source": [
    "model = CategoricalNB()\n",
    "model.fit(X_train, y_train)"
   ]
  },
  {
   "cell_type": "markdown",
   "metadata": {
    "id": "h93expsA8rRq"
   },
   "source": [
    "# Step 6: Predict probability estimates on test set"
   ]
  },
  {
   "cell_type": "code",
   "execution_count": null,
   "metadata": {
    "id": "RbI3Z-qQ8tUQ"
   },
   "outputs": [],
   "source": [
    "probs = model.predict_proba(X_test)\n",
    "print(\"Step 6: Predicted probabilities on test set\")\n",
    "display(pd.DataFrame(probs, columns=['P(No)', 'P(Yes)']))"
   ]
  },
  {
   "cell_type": "markdown",
   "metadata": {
    "id": "gmTRsm7l8vuQ"
   },
   "source": [
    "# Step 7: Evaluate the model"
   ]
  },
  {
   "cell_type": "code",
   "execution_count": null,
   "metadata": {
    "id": "7S2Vc_0L8xz3"
   },
   "outputs": [],
   "source": [
    "y_pred = model.predict(X_test)\n",
    "accuracy = accuracy_score(y_test, y_pred) * 100  # Convert to percentage\n",
    "print(f\"Step 7: Model Accuracy: {accuracy:.2f}%\")"
   ]
  },
  {
   "cell_type": "markdown",
   "metadata": {
    "id": "TxnTzt0H80Kj"
   },
   "source": [
    "# Step 8: Example prediction"
   ]
  },
  {
   "cell_type": "code",
   "execution_count": null,
   "metadata": {
    "id": "U6vNlkox82EO"
   },
   "outputs": [],
   "source": [
    "sample = np.array([[0, 2, 0, 1]])  # Example: Sunny, Cold, High, True\n",
    "prediction = model.predict(sample)\n",
    "predicted_label = label_encoders['Play'].inverse_transform(prediction)\n",
    "print(\"Step 8: Prediction for sample input\")\n",
    "print(\"Predicted Play Decision:\", predicted_label[0])"
   ]
  },
  {
   "cell_type": "code",
   "execution_count": null,
   "metadata": {},
   "outputs": [],
   "source": []
  }
 ],
 "metadata": {
  "colab": {
   "provenance": []
  },
  "kernelspec": {
   "display_name": "Python 3 (ipykernel)",
   "language": "python",
   "name": "python3"
  },
  "language_info": {
   "codemirror_mode": {
    "name": "ipython",
    "version": 3
   },
   "file_extension": ".py",
   "mimetype": "text/x-python",
   "name": "python",
   "nbconvert_exporter": "python",
   "pygments_lexer": "ipython3",
   "version": "3.10.11"
  }
 },
 "nbformat": 4,
 "nbformat_minor": 4
}
