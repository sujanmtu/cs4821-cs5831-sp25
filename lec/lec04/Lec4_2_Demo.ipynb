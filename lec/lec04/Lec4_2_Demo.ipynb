{
  "nbformat": 4,
  "nbformat_minor": 0,
  "metadata": {
    "colab": {
      "provenance": []
    },
    "kernelspec": {
      "name": "python3",
      "display_name": "Python 3"
    },
    "language_info": {
      "name": "python"
    }
  },
  "cells": [
    {
      "cell_type": "markdown",
      "source": [
        "# Case Study: Predicting Tennis Match Playability Using Naïve Bayes Classification"
      ],
      "metadata": {
        "id": "bS59FP9k9BEm"
      }
    },
    {
      "cell_type": "code",
      "execution_count": null,
      "metadata": {
        "id": "eXIutxG07s7t"
      },
      "outputs": [],
      "source": [
        "#Import Packages\n",
        "import numpy as np\n",
        "import pandas as pd\n",
        "from sklearn.naive_bayes import CategoricalNB\n",
        "from sklearn.preprocessing import LabelEncoder\n",
        "from sklearn.model_selection import train_test_split\n",
        "from sklearn.metrics import accuracy_score"
      ]
    },
    {
      "cell_type": "markdown",
      "source": [
        "# Step 1: Create a sample dataset"
      ],
      "metadata": {
        "id": "5jBSzky08NDW"
      }
    },
    {
      "cell_type": "code",
      "source": [
        "data = pd.DataFrame({\n",
        "    'Outlook': ['Sunny', 'Sunny', 'Overcast', 'Rain', 'Rain', 'Rain', 'Overcast', 'Sunny', 'Sunny', 'Rain', 'Sunny', 'Overcast', 'Overcast', 'Rain'],\n",
        "    'Temperature': ['Hot', 'Hot', 'Hot', 'Mild', 'Cold', 'Cold', 'Cold', 'Mild', 'Cold', 'Mild', 'Mild', 'Mild', 'Hot', 'Mild'],\n",
        "    'Humidity': ['High', 'High', 'High', 'High', 'Low', 'Low', 'Low', 'High', 'Low', 'Low', 'Low', 'High', 'Low', 'High'],\n",
        "    'Windy': ['False', 'True', 'False', 'False', 'False', 'True', 'True', 'False', 'False', 'False', 'True', 'True', 'False', 'True'],\n",
        "    'Play': ['No', 'No', 'Yes', 'Yes', 'Yes', 'No', 'Yes', 'No', 'Yes', 'Yes', 'Yes', 'Yes', 'Yes', 'No']\n",
        "})\n",
        "data.shape"
      ],
      "metadata": {
        "id": "sIbB7cdl8Rez"
      },
      "execution_count": null,
      "outputs": []
    },
    {
      "cell_type": "code",
      "source": [
        "# Display the dataset\n",
        "print(\"Step 1: Display the dataset\")\n",
        "display(data)"
      ],
      "metadata": {
        "id": "0qKTtW2b8XYt"
      },
      "execution_count": null,
      "outputs": []
    },
    {
      "cell_type": "markdown",
      "source": [
        "# Step 2: Encode categorical variables"
      ],
      "metadata": {
        "id": "rDt-IMDW8T7C"
      }
    },
    {
      "cell_type": "code",
      "source": [
        "label_encoders = {}\n",
        "for col in ['Outlook', 'Temperature', 'Humidity', 'Windy', 'Play']:\n",
        "    label_encoders[col] = LabelEncoder()\n",
        "    data[col] = label_encoders[col].fit_transform(data[col])"
      ],
      "metadata": {
        "id": "2-oPkVnU8a0n"
      },
      "execution_count": null,
      "outputs": []
    },
    {
      "cell_type": "code",
      "source": [
        "# Display the encoded dataset\n",
        "print(\"Step 2: Display the encoded dataset\")\n",
        "display(data)"
      ],
      "metadata": {
        "id": "qgqiFgwQ8eSz"
      },
      "execution_count": null,
      "outputs": []
    },
    {
      "cell_type": "markdown",
      "source": [
        "# Step 3: Split features and target"
      ],
      "metadata": {
        "id": "i3AEZb0d8gKK"
      }
    },
    {
      "cell_type": "code",
      "source": [
        "X = data[['Outlook', 'Temperature', 'Humidity', 'Windy']]\n",
        "y = data['Play']\n",
        "\n",
        "# Step 4: Split into training and testing sets\n",
        "X_train, X_test, y_train, y_test = train_test_split(X, y, test_size=0.1, random_state=42)"
      ],
      "metadata": {
        "id": "OGc3teuD8iZ1"
      },
      "execution_count": null,
      "outputs": []
    },
    {
      "cell_type": "code",
      "source": [
        "X_train.shape, X_test.shape, y_train.shape, y_test.shape"
      ],
      "metadata": {
        "id": "awkR0DUP91LP"
      },
      "execution_count": null,
      "outputs": []
    },
    {
      "cell_type": "markdown",
      "source": [
        "# Step 5: Train Naïve Bayes classifier"
      ],
      "metadata": {
        "id": "jAGNXoGU8mk0"
      }
    },
    {
      "cell_type": "code",
      "source": [
        "model = CategoricalNB()\n",
        "model.fit(X_train, y_train)"
      ],
      "metadata": {
        "id": "qkZjGdG68o-w"
      },
      "execution_count": null,
      "outputs": []
    },
    {
      "cell_type": "markdown",
      "source": [
        "# Step 6: Predict probability estimates on test set"
      ],
      "metadata": {
        "id": "h93expsA8rRq"
      }
    },
    {
      "cell_type": "code",
      "source": [
        "probs = model.predict_proba(X_test)\n",
        "print(\"Step 6: Predicted probabilities on test set\")\n",
        "display(pd.DataFrame(probs, columns=['P(No)', 'P(Yes)']))"
      ],
      "metadata": {
        "id": "RbI3Z-qQ8tUQ"
      },
      "execution_count": null,
      "outputs": []
    },
    {
      "cell_type": "markdown",
      "source": [
        "# Step 7: Evaluate the model"
      ],
      "metadata": {
        "id": "gmTRsm7l8vuQ"
      }
    },
    {
      "cell_type": "code",
      "source": [
        "y_pred = model.predict(X_test)\n",
        "accuracy = accuracy_score(y_test, y_pred) * 100  # Convert to percentage\n",
        "print(f\"Step 7: Model Accuracy: {accuracy:.2f}%\")"
      ],
      "metadata": {
        "id": "7S2Vc_0L8xz3"
      },
      "execution_count": null,
      "outputs": []
    },
    {
      "cell_type": "markdown",
      "source": [
        "# Step 8: Example prediction"
      ],
      "metadata": {
        "id": "TxnTzt0H80Kj"
      }
    },
    {
      "cell_type": "code",
      "source": [
        "sample = np.array([[0, 2, 0, 1]])  # Example: Sunny, Cold, High, True\n",
        "prediction = model.predict(sample)\n",
        "predicted_label = label_encoders['Play'].inverse_transform(prediction)\n",
        "print(\"Step 8: Prediction for sample input\")\n",
        "print(\"Predicted Play Decision:\", predicted_label[0])"
      ],
      "metadata": {
        "id": "U6vNlkox82EO"
      },
      "execution_count": null,
      "outputs": []
    }
  ]
}