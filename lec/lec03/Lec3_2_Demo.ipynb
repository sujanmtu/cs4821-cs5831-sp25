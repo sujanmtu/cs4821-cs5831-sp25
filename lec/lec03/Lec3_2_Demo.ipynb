{
  "nbformat": 4,
  "nbformat_minor": 0,
  "metadata": {
    "colab": {
      "provenance": []
    },
    "kernelspec": {
      "name": "python3",
      "display_name": "Python 3"
    },
    "language_info": {
      "name": "python"
    }
  },
  "cells": [
    {
      "cell_type": "markdown",
      "source": [
        "# Case Study: Classifying Fruits Using K-NN (K-Nearest Neighbors)\n",
        "\n",
        "\n",
        "1.   In this case study, we will walk through the steps to classify different\n",
        "types of fruits based on certain features using the K-Nearest Neighbors (K-NN) algorithm.\n",
        "2.   K-NN is a supervised learning algorithm that assigns a class to a data point based on the majority class of its K nearest neighbors in the feature space.\n",
        "\n",
        "\n",
        "\n",
        "\n",
        "\n"
      ],
      "metadata": {
        "id": "rHG57KNEpQG2"
      }
    },
    {
      "cell_type": "markdown",
      "source": [
        "# Step 1: Problem Understanding\n",
        "The task is to classify fruits based on their characteristics, such as weight, color, and size. We will use K-NN to predict the fruit type based on these features. The dataset may consist of the following features:\n",
        "\n",
        "1. Weight (grams)\n",
        "2. Diameter (cm)\n",
        "3. Color (encoded numerically, e.g., 0 for red, 1 for yellow, etc.)\n",
        "\n",
        "Our goal is to:\n",
        "\n",
        "1. Load and preprocess the dataset.\n",
        "2. Train a K-NN model.\n",
        "3. Evaluate its performance.\n",
        "4. Make predictions for new fruit instances."
      ],
      "metadata": {
        "id": "pkcP-5zuppre"
      }
    },
    {
      "cell_type": "markdown",
      "source": [
        "# Step 2: Dataset Preparation\n",
        "Let's create a synthetic dataset for this case study. We'll generate three types of fruits: Apple, Banana, and Grapes.\n",
        "\n",
        "**1. Apple: Weight ~150g, Diameter ~8 cm, Color = Red (0)**\n",
        "\n",
        "**2. Banana: Weight ~120g, Diameter ~10 cm, Color = Yellow (1)**\n",
        "\n",
        "**3. Grapes: Weight ~50g, Diameter ~3 cm, Color = Green (2)**\n",
        "\n",
        "We'll represent each fruit type with these characteristics and create a dataset."
      ],
      "metadata": {
        "id": "MBgi-VnvqAmY"
      }
    },
    {
      "cell_type": "code",
      "execution_count": 1,
      "metadata": {
        "colab": {
          "base_uri": "https://localhost:8080/"
        },
        "id": "tnOlv61PpKhf",
        "outputId": "1355b251-2838-42cb-e70c-50c32c575ac1"
      },
      "outputs": [
        {
          "output_type": "stream",
          "name": "stdout",
          "text": [
            "   Weight  Diameter  Color   Fruit\n",
            "0     150       8.0      0   Apple\n",
            "1     120      10.0      1  Banana\n",
            "2      50       3.0      2  Grapes\n",
            "3     160       8.5      0   Apple\n",
            "4     130      10.5      1  Banana\n",
            "5      55       3.5      2  Grapes\n",
            "6     140       8.2      0   Apple\n",
            "7     110       9.8      1  Banana\n",
            "8      60       3.2      2  Grapes\n"
          ]
        }
      ],
      "source": [
        "import numpy as np\n",
        "import pandas as pd\n",
        "\n",
        "# Create a synthetic dataset of fruits\n",
        "data = {\n",
        "    'Weight': [150, 120, 50, 160, 130, 55, 140, 110, 60],  # Weight in grams\n",
        "    'Diameter': [8, 10, 3, 8.5, 10.5, 3.5, 8.2, 9.8, 3.2],  # Diameter in cm\n",
        "    'Color': [0, 1, 2, 0, 1, 2, 0, 1, 2],  # 0: Red (Apple), 1: Yellow (Banana), 2: Green (Grapes)\n",
        "    'Fruit': ['Apple', 'Banana', 'Grapes', 'Apple', 'Banana', 'Grapes', 'Apple', 'Banana', 'Grapes']  # Labels\n",
        "}\n",
        "\n",
        "# Convert to DataFrame\n",
        "df = pd.DataFrame(data)\n",
        "print(df)\n"
      ]
    },
    {
      "cell_type": "markdown",
      "source": [
        "# Step 3: Data Preprocessing\n",
        "In this step, we will:\n",
        "\n",
        "1. Split the data into features (X) and labels (y).\n",
        "\n",
        "2. Normalize the feature values to ensure all features contribute equally to the distance calculation in K-NN.\n",
        "\n",
        "3. Split the dataset into training and testing sets for model evaluation."
      ],
      "metadata": {
        "id": "5VkC3XzPqZ6c"
      }
    },
    {
      "cell_type": "code",
      "source": [
        "from sklearn.model_selection import train_test_split\n",
        "from sklearn.preprocessing import StandardScaler\n",
        "\n",
        "# Features and Labels\n",
        "X = df[['Weight', 'Diameter', 'Color']]  # Features\n",
        "y = df['Fruit']  # Labels\n",
        "\n",
        "# Split data into training and test sets (80% train, 20% test)\n",
        "X_train, X_test, y_train, y_test = train_test_split(X, y, test_size=0.1, random_state=42)\n",
        "\n",
        "# Normalize the features using StandardScaler\n",
        "scaler = StandardScaler()\n",
        "X_train_scaled = scaler.fit_transform(X_train)\n",
        "X_test_scaled = scaler.transform(X_test)\n"
      ],
      "metadata": {
        "id": "hshwnZQ4qVSu"
      },
      "execution_count": 9,
      "outputs": []
    },
    {
      "cell_type": "markdown",
      "source": [
        "# Step 4: Train the K-NN Model\n",
        "Now, we will train a K-NN model on the training data. We will use K = 3 (you can experiment with different values for K)."
      ],
      "metadata": {
        "id": "NGI3ya3bqpoq"
      }
    },
    {
      "cell_type": "code",
      "source": [
        "from sklearn.neighbors import KNeighborsClassifier\n",
        "from sklearn.metrics import accuracy_score\n",
        "\n",
        "# Initialize K-NN classifier with K=3\n",
        "knn = KNeighborsClassifier(n_neighbors=3)\n",
        "\n",
        "# Train the model\n",
        "knn.fit(X_train_scaled, y_train)\n",
        "\n",
        "# Predict on the test data\n",
        "y_pred = knn.predict(X_test_scaled)\n",
        "\n",
        "# Evaluate the model's accuracy\n",
        "accuracy = accuracy_score(y_test, y_pred)\n",
        "print(f'Accuracy of K-NN model: {accuracy * 100:.2f}%')\n"
      ],
      "metadata": {
        "colab": {
          "base_uri": "https://localhost:8080/"
        },
        "id": "Tu9c_VqUqsKk",
        "outputId": "b5e679b9-c310-432b-94a3-cbbe051531c7"
      },
      "execution_count": 10,
      "outputs": [
        {
          "output_type": "stream",
          "name": "stdout",
          "text": [
            "Accuracy of K-NN model: 100.00%\n"
          ]
        }
      ]
    },
    {
      "cell_type": "markdown",
      "source": [
        "# Step 5: Making Predictions\n",
        "Now that the model is trained, we can make predictions for new instances of fruit based on their features."
      ],
      "metadata": {
        "id": "UNl9BmbirDgv"
      }
    },
    {
      "cell_type": "code",
      "source": [
        "# New fruit data (e.g., a fruit with weight = 140g, diameter = 9cm, and color = yellow)\n",
        "new_fruit = np.array([[140, 9, 1]])  # Weight = 140g, Diameter = 9cm, Color = Yellow\n",
        "\n",
        "# Normalize the new fruit data using the same scaler\n",
        "new_fruit_scaled = scaler.transform(new_fruit)\n",
        "\n",
        "# Predict the fruit type\n",
        "predicted_fruit = knn.predict(new_fruit_scaled)\n",
        "print(f'The predicted fruit is: {predicted_fruit[0]}')\n"
      ],
      "metadata": {
        "colab": {
          "base_uri": "https://localhost:8080/"
        },
        "id": "sSM04nzEq_WB",
        "outputId": "9df57b08-0db6-4753-aed5-8afddcfe12ff"
      },
      "execution_count": 12,
      "outputs": [
        {
          "output_type": "stream",
          "name": "stdout",
          "text": [
            "The predicted fruit is: Banana\n"
          ]
        },
        {
          "output_type": "stream",
          "name": "stderr",
          "text": [
            "/usr/local/lib/python3.11/dist-packages/sklearn/utils/validation.py:2739: UserWarning: X does not have valid feature names, but StandardScaler was fitted with feature names\n",
            "  warnings.warn(\n"
          ]
        }
      ]
    }
  ]
}