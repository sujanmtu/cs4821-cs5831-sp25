{
  "cells": [
    {
      "cell_type": "markdown",
      "id": "67499d1b",
      "metadata": {
        "id": "67499d1b"
      },
      "source": [
        "## Case Study: Loan Approval Prediction using Decision Tree\n",
        "\n",
        "This notebook demonstrates how to use a Decision Tree classifier to predict loan approvals based on features such as income, credit score, loan amount, employment status, and debt-to-income ratio.\n"
      ]
    },
    {
      "cell_type": "code",
      "execution_count": null,
      "id": "45522273",
      "metadata": {
        "id": "45522273"
      },
      "outputs": [],
      "source": [
        "import numpy as np\n",
        "import pandas as pd\n",
        "import matplotlib.pyplot as plt\n",
        "from sklearn.model_selection import train_test_split\n",
        "from sklearn.tree import DecisionTreeClassifier, plot_tree\n",
        "from sklearn.metrics import accuracy_score, classification_report"
      ]
    },
    {
      "cell_type": "markdown",
      "id": "efd912ae",
      "metadata": {
        "id": "efd912ae"
      },
      "source": [
        "## Step 1: Generate Synthetic Dataset\n",
        "\n",
        "We create a dataset with features representing financial information and define a loan approval criterion.\n"
      ]
    },
    {
      "cell_type": "code",
      "execution_count": null,
      "id": "51229a14",
      "metadata": {
        "id": "51229a14"
      },
      "outputs": [],
      "source": [
        "# Set seed for reproducibility\n",
        "np.random.seed(42)\n",
        "\n",
        "# Generate synthetic dataset\n",
        "data = {\n",
        "    'income': np.random.randint(20000, 100000, 1000),\n",
        "    'credit_score': np.random.randint(300, 850, 1000),\n",
        "    'loan_amount': np.random.randint(5000, 50000, 1000),\n",
        "    'employment_status': np.random.randint(0, 2, 1000),  # 0 = Unemployed, 1 = Employed\n",
        "    'debt_to_income_ratio': np.random.uniform(0.1, 0.5, 1000),\n",
        "}\n",
        "\n",
        "# Convert to DataFrame\n",
        "df = pd.DataFrame(data)\n",
        "\n",
        "# Define loan approval criteria (target variable)\n",
        "df['loan_approved'] = np.where(\n",
        "    (df['credit_score'] > 650) & (df['income'] > 40000) & (df['debt_to_income_ratio'] < 0.35),\n",
        "    1, 0\n",
        ")\n",
        "\n",
        "# Display the first five rows\n",
        "df.head()"
      ]
    },
    {
      "cell_type": "markdown",
      "id": "1c917bc5",
      "metadata": {
        "id": "1c917bc5"
      },
      "source": [
        "## Step 2: Split Dataset\n",
        "\n",
        "We split the dataset into training and testing sets for model evaluation.\n"
      ]
    },
    {
      "cell_type": "code",
      "execution_count": null,
      "id": "c9e4d418",
      "metadata": {
        "id": "c9e4d418"
      },
      "outputs": [],
      "source": [
        "# Split dataset into training and testing sets\n",
        "X = df.drop(columns=['loan_approved'])\n",
        "y = df['loan_approved']\n",
        "X_train, X_test, y_train, y_test = train_test_split(X, y, test_size=0.2, random_state=42)\n",
        "\n",
        "# Display dataset shapes\n",
        "X_train.shape, X_test.shape, y_train.shape, y_test.shape"
      ]
    },
    {
      "cell_type": "markdown",
      "id": "0fcaf55f",
      "metadata": {
        "id": "0fcaf55f"
      },
      "source": [
        "## Step 3: Train Decision Tree Classifier\n",
        "\n",
        "We train a Decision Tree model to learn patterns from the dataset.\n"
      ]
    },
    {
      "cell_type": "code",
      "execution_count": null,
      "id": "b67b7df0",
      "metadata": {
        "id": "b67b7df0"
      },
      "outputs": [],
      "source": [
        "# Train Decision Tree Classifier\n",
        "clf = DecisionTreeClassifier(max_depth=4, random_state=42)\n",
        "clf.fit(X_train, y_train)"
      ]
    },
    {
      "cell_type": "markdown",
      "id": "a7468899",
      "metadata": {
        "id": "a7468899"
      },
      "source": [
        "## Step 4: Make Predictions\n",
        "\n",
        "We use the trained model to predict loan approvals on the test set.\n"
      ]
    },
    {
      "cell_type": "code",
      "execution_count": null,
      "id": "747bd9ef",
      "metadata": {
        "id": "747bd9ef"
      },
      "outputs": [],
      "source": [
        "# Make predictions\n",
        "y_pred = clf.predict(X_test)"
      ]
    },
    {
      "cell_type": "markdown",
      "id": "ef2d9d60",
      "metadata": {
        "id": "ef2d9d60"
      },
      "source": [
        "## Step 5: Evaluate Model\n",
        "\n",
        "We evaluate the model's performance using accuracy and a classification report.\n"
      ]
    },
    {
      "cell_type": "code",
      "execution_count": null,
      "id": "2f6fa50a",
      "metadata": {
        "id": "2f6fa50a"
      },
      "outputs": [],
      "source": [
        "# Evaluate Model Performance\n",
        "print(\"Accuracy:\", accuracy_score(y_test, y_pred))\n",
        "print(\"Classification Report:\\n\", classification_report(y_test, y_pred))"
      ]
    },
    {
      "cell_type": "markdown",
      "id": "c5ed68d6",
      "metadata": {
        "id": "c5ed68d6"
      },
      "source": [
        "## Step 6: Visualize Decision Tree\n",
        "\n",
        "We visualize the trained Decision Tree to understand its decision-making process.\n"
      ]
    },
    {
      "cell_type": "code",
      "execution_count": null,
      "id": "6256e46a",
      "metadata": {
        "id": "6256e46a"
      },
      "outputs": [],
      "source": [
        "# Visualize Decision Tree\n",
        "plt.figure(figsize=(15, 8))\n",
        "plot_tree(clf, feature_names=X.columns, class_names=['Rejected', 'Approved'], filled=True)\n",
        "plt.show()"
      ]
    }
  ],
  "metadata": {
    "colab": {
      "provenance": []
    },
    "language_info": {
      "name": "python"
    },
    "kernelspec": {
      "name": "python3",
      "display_name": "Python 3"
    }
  },
  "nbformat": 4,
  "nbformat_minor": 5
}